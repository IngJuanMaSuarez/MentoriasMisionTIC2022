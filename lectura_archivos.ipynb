{
 "cells": [
  {
   "cell_type": "code",
   "execution_count": 1,
   "metadata": {},
   "outputs": [],
   "source": [
    "import csv\n",
    "import json"
   ]
  },
  {
   "cell_type": "code",
   "execution_count": 2,
   "metadata": {},
   "outputs": [],
   "source": [
    "with open('GLOBANT.csv', newline='') as archivo:\n",
    "    archivo_entrada = csv.reader(archivo, delimiter='\\t')\n",
    "\n",
    "    with open('test.csv', 'w', newline='') as documento:\n",
    "        archivo_salida = csv.writer(documento, delimiter='\\t')\n",
    "\n",
    "        lista_de_numeros = []\n",
    "\n",
    "        next(archivo_entrada)\n",
    "\n",
    "        for fila in archivo_entrada:\n",
    "            if (float(fila[1]) > 235):\n",
    "                lista_de_numeros.append(fila[1])\n",
    "            # fila\n",
    "            # archivo_salida.writerow([fila])\n",
    "\n",
    "        maximo = max(lista_de_numeros)"
   ]
  },
  {
   "cell_type": "code",
   "execution_count": 4,
   "metadata": {},
   "outputs": [],
   "source": [
    "data = {}\n",
    "\n",
    "data['papa'] = maximo\n",
    "data['arroz'] = 456\n",
    "data['huevos'] = 789\n",
    "\n",
    "with open('mercado.json', 'w', newline='') as documento:\n",
    "    json.dump(data, documento)"
   ]
  },
  {
   "cell_type": "code",
   "execution_count": 5,
   "metadata": {},
   "outputs": [
    {
     "name": "stdout",
     "output_type": "stream",
     "text": [
      "{'edad': [12, 23, 45], 'tipo': ['canino', 'felino', 'canino'], 'nombre': ['test1', 'test2', 'test3']}\n"
     ]
    }
   ],
   "source": [
    "edad = []\n",
    "tipo = []\n",
    "nombre = []\n",
    "\n",
    "diccionario2 = {\n",
    "    1: 5,\n",
    "    \n",
    "}\n",
    "\n",
    "diccionario = {\n",
    "    \"edad\": [12, 23, 45],\n",
    "    \"tipo\": [\"canino\", \"felino\", \"canino\"],\n",
    "    \"nombre\": [\"test1\", \"test2\", \"test3\"],\n",
    "}\n",
    "\n",
    "print(diccionario)"
   ]
  },
  {
   "cell_type": "code",
   "execution_count": null,
   "metadata": {},
   "outputs": [],
   "source": []
  }
 ],
 "metadata": {
  "interpreter": {
   "hash": "283410a2baf1d14453b0ba62147718d4605c9fe3e463674fc99da75c13505e66"
  },
  "kernelspec": {
   "display_name": "Python 3.8.8 ('base')",
   "language": "python",
   "name": "python3"
  },
  "language_info": {
   "codemirror_mode": {
    "name": "ipython",
    "version": 3
   },
   "file_extension": ".py",
   "mimetype": "text/x-python",
   "name": "python",
   "nbconvert_exporter": "python",
   "pygments_lexer": "ipython3",
   "version": "3.8.8"
  },
  "orig_nbformat": 4
 },
 "nbformat": 4,
 "nbformat_minor": 2
}
